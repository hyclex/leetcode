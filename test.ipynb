{
 "cells": [
  {
   "cell_type": "code",
   "execution_count": 10,
   "metadata": {},
   "outputs": [],
   "source": [
    "class MyCalendarTwo(object):\n",
    "\n",
    "    def __init__(self):\n",
    "        self.split = [0, int(1e9+1)]\n",
    "        self.tag = [0]\n",
    "\n",
    "    def locate(self, pos):\n",
    "        left = 0\n",
    "        right = len(self.tag)\n",
    "        cur = (left + right) // 2\n",
    "        while True:\n",
    "            if self.split[cur] > pos:\n",
    "                right = cur\n",
    "            elif self.split[cur+1] <= pos:\n",
    "                left = cur\n",
    "            else:\n",
    "                break\n",
    "            cur = (left + right) // 2\n",
    "        return cur\n",
    "\n",
    "    def book(self, start, end):\n",
    "        \"\"\"\n",
    "        :type start: int\n",
    "        :type end: int\n",
    "        :rtype: bool\n",
    "        \"\"\"\n",
    "        # locate start and end\n",
    "        left_seg = self.locate(start)\n",
    "        right_seg = self.locate(end)\n",
    "\n",
    "        # check availability\n",
    "        for i in range(left_seg, right_seg):\n",
    "            if self.tag[i] == 2:\n",
    "                return False\n",
    "        right_overlap = self.split[right_seg] == end\n",
    "        if (not right_overlap) and self.tag[right_seg] == 2:\n",
    "            return False\n",
    "\n",
    "        # change the status\n",
    "        \n",
    "        left_overlap = self.split[left_seg] == start\n",
    "        if not left_overlap:\n",
    "            self.tag.insert(left_seg+1, self.tag[left_seg])\n",
    "            self.split.insert(left_seg+1, start)\n",
    "        for i in range(left_seg, right_seg):\n",
    "            self.tag[i+ 1 - int(left_overlap)] += 1\n",
    "        if not right_overlap:\n",
    "            self.tag.insert(right_seg+1+int(not left_overlap), self.tag[right_seg+int(not left_overlap)])\n",
    "            self.tag[right_seg+int(not left_overlap)] += 1\n",
    "            self.split.insert(right_seg+1+int(not left_overlap), end)\n",
    "        return True"
   ]
  },
  {
   "cell_type": "code",
   "execution_count": 12,
   "metadata": {},
   "outputs": [
    {
     "name": "stdout",
     "output_type": "stream",
     "text": [
      "True\n",
      "True\n",
      "True\n"
     ]
    }
   ],
   "source": [
    "books = [[47,50],[1,10],[27,36],[40,47],[20,27],[15,23],[10,18],[27,36],[17,25],[8,17],[24,33],[23,28],[21,27],[47,50],[14,21],[26,32],[16,21],[2,7],[24,33],[6,13],[44,50],[33,39],[30,36],[6,15],[21,27],[49,50],[38,45],[4,12],[46,50],[13,21]]\n",
    "obj = MyCalendarTwo()\n",
    "for book in books:\n",
    "    print(obj.book(book[0], book[1]))\n"
   ]
  }
 ],
 "metadata": {
  "kernelspec": {
   "display_name": "stock",
   "language": "python",
   "name": "stock"
  },
  "language_info": {
   "codemirror_mode": {
    "name": "ipython",
    "version": 3
   },
   "file_extension": ".py",
   "mimetype": "text/x-python",
   "name": "python",
   "nbconvert_exporter": "python",
   "pygments_lexer": "ipython3",
   "version": "3.7.3"
  }
 },
 "nbformat": 4,
 "nbformat_minor": 2
}
